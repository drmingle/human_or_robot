{
 "cells": [
  {
   "cell_type": "markdown",
   "metadata": {},
   "source": [
    "#Import libraries needed for analysis"
   ]
  },
  {
   "cell_type": "code",
   "execution_count": 1,
   "metadata": {
    "collapsed": true
   },
   "outputs": [],
   "source": [
    "import pandas as pd\n",
    "import numpy as np"
   ]
  },
  {
   "cell_type": "markdown",
   "metadata": {},
   "source": [
    "# Data import and cleaning"
   ]
  },
  {
   "cell_type": "code",
   "execution_count": 13,
   "metadata": {
    "collapsed": false
   },
   "outputs": [],
   "source": [
    "df.train = pd.read_csv('train.csv', header=0)\n",
    "df.bids = pd.read_csv('bids.csv', header=0)\n",
    "df.test = pd.read_csv('test.csv', header=0)"
   ]
  },
  {
   "cell_type": "markdown",
   "metadata": {},
   "source": [
    "# Explore data"
   ]
  },
  {
   "cell_type": "markdown",
   "metadata": {},
   "source": [
    "Check how many examples do we have in the datasets provided by Facebook."
   ]
  },
  {
   "cell_type": "code",
   "execution_count": 8,
   "metadata": {
    "collapsed": false
   },
   "outputs": [
    {
     "name": "stdout",
     "output_type": "stream",
     "text": [
      " 7656335 bids.csv\n",
      "    4701 sampleSubmission.csv\n",
      "    4701 test.csv\n",
      "    2014 train.csv\n",
      " 7667751 total\n"
     ]
    }
   ],
   "source": [
    "%%bash\n",
    "wc -l *.csv"
   ]
  },
  {
   "cell_type": "markdown",
   "metadata": {},
   "source": [
    "## Bidder dataset"
   ]
  },
  {
   "cell_type": "code",
   "execution_count": 16,
   "metadata": {
    "collapsed": false
   },
   "outputs": [
    {
     "data": {
      "text/html": [
       "<div style=\"max-height:1000px;max-width:1500px;overflow:auto;\">\n",
       "<table border=\"1\" class=\"dataframe\">\n",
       "  <thead>\n",
       "    <tr style=\"text-align: right;\">\n",
       "      <th></th>\n",
       "      <th>bidder_id</th>\n",
       "      <th>payment_account</th>\n",
       "      <th>address</th>\n",
       "      <th>outcome</th>\n",
       "    </tr>\n",
       "  </thead>\n",
       "  <tbody>\n",
       "    <tr>\n",
       "      <th>0</th>\n",
       "      <td>91a3c57b13234af24875c56fb7e2b2f4rb56a</td>\n",
       "      <td>a3d2de7675556553a5f08e4c88d2c228754av</td>\n",
       "      <td>a3d2de7675556553a5f08e4c88d2c228vt0u4</td>\n",
       "      <td>0</td>\n",
       "    </tr>\n",
       "    <tr>\n",
       "      <th>1</th>\n",
       "      <td>624f258b49e77713fc34034560f93fb3hu3jo</td>\n",
       "      <td>a3d2de7675556553a5f08e4c88d2c228v1sga</td>\n",
       "      <td>ae87054e5a97a8f840a3991d12611fdcrfbq3</td>\n",
       "      <td>0</td>\n",
       "    </tr>\n",
       "    <tr>\n",
       "      <th>2</th>\n",
       "      <td>1c5f4fc669099bfbfac515cd26997bd12ruaj</td>\n",
       "      <td>a3d2de7675556553a5f08e4c88d2c2280cybl</td>\n",
       "      <td>92520288b50f03907041887884ba49c0cl0pd</td>\n",
       "      <td>0</td>\n",
       "    </tr>\n",
       "  </tbody>\n",
       "</table>\n",
       "</div>"
      ],
      "text/plain": [
       "                               bidder_id  \\\n",
       "0  91a3c57b13234af24875c56fb7e2b2f4rb56a   \n",
       "1  624f258b49e77713fc34034560f93fb3hu3jo   \n",
       "2  1c5f4fc669099bfbfac515cd26997bd12ruaj   \n",
       "\n",
       "                         payment_account  \\\n",
       "0  a3d2de7675556553a5f08e4c88d2c228754av   \n",
       "1  a3d2de7675556553a5f08e4c88d2c228v1sga   \n",
       "2  a3d2de7675556553a5f08e4c88d2c2280cybl   \n",
       "\n",
       "                                 address  outcome  \n",
       "0  a3d2de7675556553a5f08e4c88d2c228vt0u4        0  \n",
       "1  ae87054e5a97a8f840a3991d12611fdcrfbq3        0  \n",
       "2  92520288b50f03907041887884ba49c0cl0pd        0  "
      ]
     },
     "execution_count": 16,
     "metadata": {},
     "output_type": "execute_result"
    }
   ],
   "source": [
    "df.train.head(3)"
   ]
  },
  {
   "cell_type": "code",
   "execution_count": 17,
   "metadata": {
    "collapsed": false
   },
   "outputs": [
    {
     "data": {
      "text/html": [
       "<div style=\"max-height:1000px;max-width:1500px;overflow:auto;\">\n",
       "<table border=\"1\" class=\"dataframe\">\n",
       "  <thead>\n",
       "    <tr style=\"text-align: right;\">\n",
       "      <th></th>\n",
       "      <th>outcome</th>\n",
       "    </tr>\n",
       "  </thead>\n",
       "  <tbody>\n",
       "    <tr>\n",
       "      <th>count</th>\n",
       "      <td>2013.000000</td>\n",
       "    </tr>\n",
       "    <tr>\n",
       "      <th>mean</th>\n",
       "      <td>0.051167</td>\n",
       "    </tr>\n",
       "    <tr>\n",
       "      <th>std</th>\n",
       "      <td>0.220394</td>\n",
       "    </tr>\n",
       "    <tr>\n",
       "      <th>min</th>\n",
       "      <td>0.000000</td>\n",
       "    </tr>\n",
       "    <tr>\n",
       "      <th>25%</th>\n",
       "      <td>0.000000</td>\n",
       "    </tr>\n",
       "    <tr>\n",
       "      <th>50%</th>\n",
       "      <td>0.000000</td>\n",
       "    </tr>\n",
       "    <tr>\n",
       "      <th>75%</th>\n",
       "      <td>0.000000</td>\n",
       "    </tr>\n",
       "    <tr>\n",
       "      <th>max</th>\n",
       "      <td>1.000000</td>\n",
       "    </tr>\n",
       "  </tbody>\n",
       "</table>\n",
       "</div>"
      ],
      "text/plain": [
       "           outcome\n",
       "count  2013.000000\n",
       "mean      0.051167\n",
       "std       0.220394\n",
       "min       0.000000\n",
       "25%       0.000000\n",
       "50%       0.000000\n",
       "75%       0.000000\n",
       "max       1.000000"
      ]
     },
     "execution_count": 17,
     "metadata": {},
     "output_type": "execute_result"
    }
   ],
   "source": [
    "df.train.describe()"
   ]
  },
  {
   "cell_type": "markdown",
   "metadata": {},
   "source": [
    "Our training data consist of 2013 entries. Outcome is 1 when the bidder is a robot."
   ]
  },
  {
   "cell_type": "code",
   "execution_count": 19,
   "metadata": {
    "collapsed": false
   },
   "outputs": [
    {
     "data": {
      "text/plain": [
       "103"
      ]
     },
     "execution_count": 19,
     "metadata": {},
     "output_type": "execute_result"
    }
   ],
   "source": [
    "df.train[df.train['outcome']==1]['outcome'].count()"
   ]
  },
  {
   "cell_type": "markdown",
   "metadata": {},
   "source": [
    "103 entries in the training dataset are robots."
   ]
  },
  {
   "cell_type": "code",
   "execution_count": 20,
   "metadata": {
    "collapsed": false
   },
   "outputs": [
    {
     "data": {
      "text/html": [
       "<div style=\"max-height:1000px;max-width:1500px;overflow:auto;\">\n",
       "<table border=\"1\" class=\"dataframe\">\n",
       "  <thead>\n",
       "    <tr style=\"text-align: right;\">\n",
       "      <th></th>\n",
       "      <th>bidder_id</th>\n",
       "      <th>payment_account</th>\n",
       "      <th>address</th>\n",
       "      <th>outcome</th>\n",
       "    </tr>\n",
       "  </thead>\n",
       "  <tbody>\n",
       "    <tr>\n",
       "      <th>21</th>\n",
       "      <td>5354c02817e47f28e60e44a40ca5e48dll4sz</td>\n",
       "      <td>1862ef3b7965993cc975a1161010e810w2bwo</td>\n",
       "      <td>58e5dc4d38d886f6c7abf0c264a51cb7alhj2</td>\n",
       "      <td>1</td>\n",
       "    </tr>\n",
       "    <tr>\n",
       "      <th>50</th>\n",
       "      <td>9434778d2268f1fa2a8ede48c0cd05c097zey</td>\n",
       "      <td>ee3295c7b31a1e9116ebf0cf2df68ed1ac8ts</td>\n",
       "      <td>627fe7481f01372c02333477471cb237qt2vf</td>\n",
       "      <td>1</td>\n",
       "    </tr>\n",
       "    <tr>\n",
       "      <th>51</th>\n",
       "      <td>aabc211b4cf4d29e4ac7e7e361371622pockb</td>\n",
       "      <td>a3d2de7675556553a5f08e4c88d2c228pxtr6</td>\n",
       "      <td>a3d2de7675556553a5f08e4c88d2c228bxn98</td>\n",
       "      <td>1</td>\n",
       "    </tr>\n",
       "    <tr>\n",
       "      <th>58</th>\n",
       "      <td>68d468e15e0de0bab9694cdca8e799eb2j8kn</td>\n",
       "      <td>a3d2de7675556553a5f08e4c88d2c228vf08k</td>\n",
       "      <td>767150cd5a97ed796bfc58456f5500250dsv7</td>\n",
       "      <td>1</td>\n",
       "    </tr>\n",
       "    <tr>\n",
       "      <th>77</th>\n",
       "      <td>1cbd9081de4481ada66f1853737f7684ddjd1</td>\n",
       "      <td>a3d2de7675556553a5f08e4c88d2c228buft1</td>\n",
       "      <td>a3d2de7675556553a5f08e4c88d2c228pijoz</td>\n",
       "      <td>1</td>\n",
       "    </tr>\n",
       "    <tr>\n",
       "      <th>86</th>\n",
       "      <td>96b90af2d3eea4d3b2bc725e1c92e212qu52g</td>\n",
       "      <td>39ef2afbc0cde265550cafb40eb3fd8erzlrm</td>\n",
       "      <td>0e6dfa874409a90bc0fbf0d531475241cvw1o</td>\n",
       "      <td>1</td>\n",
       "    </tr>\n",
       "    <tr>\n",
       "      <th>139</th>\n",
       "      <td>15972a431aed117840dfce5556242366c3fwq</td>\n",
       "      <td>4b5c8f52a678e51ebe0ee3fc26da66902e2l7</td>\n",
       "      <td>865e5987e0c8fc7f6301b5571d688d13pu5j1</td>\n",
       "      <td>1</td>\n",
       "    </tr>\n",
       "    <tr>\n",
       "      <th>148</th>\n",
       "      <td>efc61ad6db17265a4bac85f77b154ef414tpp</td>\n",
       "      <td>a3d2de7675556553a5f08e4c88d2c22850etl</td>\n",
       "      <td>a3d2de7675556553a5f08e4c88d2c228d6pnk</td>\n",
       "      <td>1</td>\n",
       "    </tr>\n",
       "    <tr>\n",
       "      <th>165</th>\n",
       "      <td>3d9910a238a0f282ad3132dd6fc981c8tv3tg</td>\n",
       "      <td>a3d2de7675556553a5f08e4c88d2c2281ehah</td>\n",
       "      <td>c856c4f51e949635cb567f7321bc0c6at1y78</td>\n",
       "      <td>1</td>\n",
       "    </tr>\n",
       "    <tr>\n",
       "      <th>199</th>\n",
       "      <td>1af4685cda2979a608c4b6ad83473774qgicn</td>\n",
       "      <td>e35a74340ac6d90fcb4fe9b84c6eaa2135wqx</td>\n",
       "      <td>ceda5914ce08b87ec934e614452442903j17m</td>\n",
       "      <td>1</td>\n",
       "    </tr>\n",
       "  </tbody>\n",
       "</table>\n",
       "</div>"
      ],
      "text/plain": [
       "                                 bidder_id  \\\n",
       "21   5354c02817e47f28e60e44a40ca5e48dll4sz   \n",
       "50   9434778d2268f1fa2a8ede48c0cd05c097zey   \n",
       "51   aabc211b4cf4d29e4ac7e7e361371622pockb   \n",
       "58   68d468e15e0de0bab9694cdca8e799eb2j8kn   \n",
       "77   1cbd9081de4481ada66f1853737f7684ddjd1   \n",
       "86   96b90af2d3eea4d3b2bc725e1c92e212qu52g   \n",
       "139  15972a431aed117840dfce5556242366c3fwq   \n",
       "148  efc61ad6db17265a4bac85f77b154ef414tpp   \n",
       "165  3d9910a238a0f282ad3132dd6fc981c8tv3tg   \n",
       "199  1af4685cda2979a608c4b6ad83473774qgicn   \n",
       "\n",
       "                           payment_account  \\\n",
       "21   1862ef3b7965993cc975a1161010e810w2bwo   \n",
       "50   ee3295c7b31a1e9116ebf0cf2df68ed1ac8ts   \n",
       "51   a3d2de7675556553a5f08e4c88d2c228pxtr6   \n",
       "58   a3d2de7675556553a5f08e4c88d2c228vf08k   \n",
       "77   a3d2de7675556553a5f08e4c88d2c228buft1   \n",
       "86   39ef2afbc0cde265550cafb40eb3fd8erzlrm   \n",
       "139  4b5c8f52a678e51ebe0ee3fc26da66902e2l7   \n",
       "148  a3d2de7675556553a5f08e4c88d2c22850etl   \n",
       "165  a3d2de7675556553a5f08e4c88d2c2281ehah   \n",
       "199  e35a74340ac6d90fcb4fe9b84c6eaa2135wqx   \n",
       "\n",
       "                                   address  outcome  \n",
       "21   58e5dc4d38d886f6c7abf0c264a51cb7alhj2        1  \n",
       "50   627fe7481f01372c02333477471cb237qt2vf        1  \n",
       "51   a3d2de7675556553a5f08e4c88d2c228bxn98        1  \n",
       "58   767150cd5a97ed796bfc58456f5500250dsv7        1  \n",
       "77   a3d2de7675556553a5f08e4c88d2c228pijoz        1  \n",
       "86   0e6dfa874409a90bc0fbf0d531475241cvw1o        1  \n",
       "139  865e5987e0c8fc7f6301b5571d688d13pu5j1        1  \n",
       "148  a3d2de7675556553a5f08e4c88d2c228d6pnk        1  \n",
       "165  c856c4f51e949635cb567f7321bc0c6at1y78        1  \n",
       "199  ceda5914ce08b87ec934e614452442903j17m        1  "
      ]
     },
     "execution_count": 20,
     "metadata": {},
     "output_type": "execute_result"
    }
   ],
   "source": [
    "df.train[df.train['outcome']==1].head(10)"
   ]
  },
  {
   "cell_type": "markdown",
   "metadata": {},
   "source": [
    "## Bid dataset"
   ]
  },
  {
   "cell_type": "code",
   "execution_count": 22,
   "metadata": {
    "collapsed": false
   },
   "outputs": [
    {
     "data": {
      "text/html": [
       "<div style=\"max-height:1000px;max-width:1500px;overflow:auto;\">\n",
       "<table border=\"1\" class=\"dataframe\">\n",
       "  <thead>\n",
       "    <tr style=\"text-align: right;\">\n",
       "      <th></th>\n",
       "      <th>bid_id</th>\n",
       "      <th>bidder_id</th>\n",
       "      <th>auction</th>\n",
       "      <th>merchandise</th>\n",
       "      <th>device</th>\n",
       "      <th>time</th>\n",
       "      <th>country</th>\n",
       "      <th>ip</th>\n",
       "      <th>url</th>\n",
       "    </tr>\n",
       "  </thead>\n",
       "  <tbody>\n",
       "    <tr>\n",
       "      <th>0</th>\n",
       "      <td>0</td>\n",
       "      <td>8dac2b259fd1c6d1120e519fb1ac14fbqvax8</td>\n",
       "      <td>ewmzr</td>\n",
       "      <td>jewelry</td>\n",
       "      <td>phone0</td>\n",
       "      <td>9759243157894736</td>\n",
       "      <td>us</td>\n",
       "      <td>69.166.231.58</td>\n",
       "      <td>vasstdc27m7nks3</td>\n",
       "    </tr>\n",
       "    <tr>\n",
       "      <th>1</th>\n",
       "      <td>1</td>\n",
       "      <td>668d393e858e8126275433046bbd35c6tywop</td>\n",
       "      <td>aeqok</td>\n",
       "      <td>furniture</td>\n",
       "      <td>phone1</td>\n",
       "      <td>9759243157894736</td>\n",
       "      <td>in</td>\n",
       "      <td>50.201.125.84</td>\n",
       "      <td>jmqlhflrzwuay9c</td>\n",
       "    </tr>\n",
       "    <tr>\n",
       "      <th>2</th>\n",
       "      <td>2</td>\n",
       "      <td>aa5f360084278b35d746fa6af3a7a1a5ra3xe</td>\n",
       "      <td>wa00e</td>\n",
       "      <td>home goods</td>\n",
       "      <td>phone2</td>\n",
       "      <td>9759243157894736</td>\n",
       "      <td>py</td>\n",
       "      <td>112.54.208.157</td>\n",
       "      <td>vasstdc27m7nks3</td>\n",
       "    </tr>\n",
       "  </tbody>\n",
       "</table>\n",
       "</div>"
      ],
      "text/plain": [
       "   bid_id                              bidder_id auction merchandise  device  \\\n",
       "0       0  8dac2b259fd1c6d1120e519fb1ac14fbqvax8   ewmzr     jewelry  phone0   \n",
       "1       1  668d393e858e8126275433046bbd35c6tywop   aeqok   furniture  phone1   \n",
       "2       2  aa5f360084278b35d746fa6af3a7a1a5ra3xe   wa00e  home goods  phone2   \n",
       "\n",
       "               time country              ip              url  \n",
       "0  9759243157894736      us   69.166.231.58  vasstdc27m7nks3  \n",
       "1  9759243157894736      in   50.201.125.84  jmqlhflrzwuay9c  \n",
       "2  9759243157894736      py  112.54.208.157  vasstdc27m7nks3  "
      ]
     },
     "execution_count": 22,
     "metadata": {},
     "output_type": "execute_result"
    }
   ],
   "source": [
    "df.bids.head(3)"
   ]
  },
  {
   "cell_type": "code",
   "execution_count": 32,
   "metadata": {
    "collapsed": false
   },
   "outputs": [
    {
     "data": {
      "text/plain": [
       "bidder_id\n",
       "0051aef3fdeacdadba664b9b3b07e04e4coc6    1\n",
       "0061edfc5b07ff3d70d693883a38d370oy4fs    1\n",
       "01067975436d123f717ee5aba0dd4bbfa0937    1\n",
       "0113d101ec6aabd354adac645a1ec3e82ln88    1\n",
       "01255c2c7c5578c186873422fc00fd7afwk8k    1\n",
       "01349288df20199905e719f0ff7ee771nwryj    1\n",
       "019cf2d366df756c092c91e26f406acdozha7    1\n",
       "01cda526658455000913950f20cf31a2q6nsf    1\n",
       "02518a364d87661eed1453e251933862yvmjj    1\n",
       "02a28b9de21bcb744bc2a7dedc008f91pbcpc    1\n",
       "0306d10ab30a2f5cda41ae7ed77b8d31oehvv    1\n",
       "037d9f10da403d8d5f94b6e2957a3702f6x07    1\n",
       "03e884d3e7e3356608187d2345e4693fyt29x    1\n",
       "0430923026291636fff20fa1707fd34f0nayx    1\n",
       "04bffaa5e353b8a37a66767e3d9b531din3rc    1\n",
       "04c6b750b0552089c87ae03de72289cfcpfmh    1\n",
       "04f53d51a9cac9391b1d35c109294c48apax1    1\n",
       "051586c3297f5b992000048f3704550fxja6g    1\n",
       "0547dbd3ecb4a293913f138d60b586fdf4ane    1\n",
       "054b51d059fe981ca8cc4e0d4c49aabb5mck7    1\n",
       "055282b75717345ba6f53d40e9e6d6c56qrzp    1\n",
       "0565a780f2c5b46837bbe9739ef15ea92fdu0    1\n",
       "0565d7d345ac29442b26cd9ffe2b3b841wwnb    1\n",
       "057071d595b08bd00caa8e3a91eb954bhgt1q    1\n",
       "0590c434e36245c7983845752e73ebbdgyugm    1\n",
       "05a07a27e235d01fe480ea6ac73b8838jq28x    1\n",
       "05bd6eb40889047958e8b96332cc1975vib58    1\n",
       "06586694c6bba2ccaa8e13354701bb30em5ro    1\n",
       "069d251f2fc19102924468ab38349d5eou7ab    1\n",
       "0763e7371b763087182eb37930074ff8mj7fw    1\n",
       "                                        ..\n",
       "f54258c2e26abb410bf4733f7fde4671jf5a0    1\n",
       "f5865e6c699a695b14148bc78f7262c8ag7wq    1\n",
       "f594fcaceafc1ea9346a40af52d35c18jkvvs    1\n",
       "f670fe91b3016f6ec866de0ce42cf7e7cuan6    1\n",
       "f6e2e1642d2502c0f13dbe5fe906b8cbjm5v6    1\n",
       "f6fa31944ec345bd95de03e739ff0f43mgxjz    1\n",
       "f7d2d4cc45a83259c8b22adae333ce0dasm72    1\n",
       "f7e6453fde8d5781cc40f7f25f200ea8yo49z    1\n",
       "f80075873f7183a03b1b10ac3f740032v6w99    1\n",
       "f8a8934122d86964869a10f74f8a023eiegi1    1\n",
       "f8abf3f855d68736aa6bebb37e29e5219y62a    1\n",
       "f8e215d416736fdb1de26d34ad315c368o24w    1\n",
       "f8e3d1df88d8cf283a58d0a2329b79a9ilvmp    1\n",
       "f99c86fb8916895d5603c946065b106e2pb11    1\n",
       "fa9942d2eea61483c7cf6fd70c73499aet5hj    1\n",
       "fb3620e1a7ecd3d00ad46538ab2f4598whezy    1\n",
       "fb81da0790d821a22617d748d0226540ylrj6    1\n",
       "fbab21e32ee211e1e79b6a407f00dd83hxk5v    1\n",
       "fbacab353140582a4b8ae3412eefecbc753vs    1\n",
       "fbce1f9841cc3e740c445945a8f17be40vbg2    1\n",
       "fbe1b9bf0bdf9dea589fff673ef0f2b1my7jq    1\n",
       "fc4380ac57911f6b646e5dace9ff406ewd6ic    1\n",
       "fd10a3b9be97f053f251665e122aa15c0onyu    1\n",
       "fd5cef3fe1217c6591500c715d71717anczcq    1\n",
       "fe19896bccbc9bccb419cbe5f69dd7a9wu90p    1\n",
       "fe37b8b29d26021ea9462bcc7c5bf5c2pbya7    1\n",
       "fe84da5e6912534549d63415ed725618uiz26    1\n",
       "ff58ffde976a4899dcd89597a7877e18lntgz    1\n",
       "ffbc0fdfbf19a8a9116b68714138f2902cc13    1\n",
       "ffd62646d600b759a985d45918bd6f0431vmz    1\n",
       "Name: bidder_id, dtype: int64"
      ]
     },
     "execution_count": 32,
     "metadata": {},
     "output_type": "execute_result"
    }
   ],
   "source": [
    "df.bids.head(20000).groupby('bidder_id').bidder_id.nunique()"
   ]
  }
 ],
 "metadata": {
  "kernelspec": {
   "display_name": "Python 2",
   "language": "python",
   "name": "python2"
  },
  "language_info": {
   "codemirror_mode": {
    "name": "ipython",
    "version": 2
   },
   "file_extension": ".py",
   "mimetype": "text/x-python",
   "name": "python",
   "nbconvert_exporter": "python",
   "pygments_lexer": "ipython2",
   "version": "2.7.9"
  }
 },
 "nbformat": 4,
 "nbformat_minor": 0
}
