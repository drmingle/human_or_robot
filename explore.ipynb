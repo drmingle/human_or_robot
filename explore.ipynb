{
 "cells": [
  {
   "cell_type": "markdown",
   "metadata": {},
   "source": [
    "#Import libraries needed for analysis"
   ]
  },
  {
   "cell_type": "code",
   "execution_count": 2,
   "metadata": {
    "collapsed": false
   },
   "outputs": [],
   "source": [
    "import pandas as pd\n",
    "import numpy as np"
   ]
  },
  {
   "cell_type": "markdown",
   "metadata": {},
   "source": [
    "# Data import and cleaning"
   ]
  },
  {
   "cell_type": "code",
   "execution_count": 6,
   "metadata": {
    "collapsed": false
   },
   "outputs": [],
   "source": [
    "df = pd.read_csv('train.csv', header=0)"
   ]
  },
  {
   "cell_type": "markdown",
   "metadata": {},
   "source": [
    "# Explore data"
   ]
  },
  {
   "cell_type": "markdown",
   "metadata": {},
   "source": [
    "## Bidder dataset"
   ]
  },
  {
   "cell_type": "markdown",
   "metadata": {},
   "source": [
    "Check how many examples do we have in the datasets provided by Facebook."
   ]
  },
  {
   "cell_type": "code",
   "execution_count": 20,
   "metadata": {
    "collapsed": false
   },
   "outputs": [
    {
     "name": "stdout",
     "output_type": "stream",
     "text": [
      " 7656335 bids.csv\n",
      "    4701 test.csv\n",
      "    2014 train.csv\n",
      " 7663050 total\n"
     ]
    }
   ],
   "source": [
    "%%bash\n",
    "wc -l *.csv"
   ]
  },
  {
   "cell_type": "code",
   "execution_count": 7,
   "metadata": {
    "collapsed": false
   },
   "outputs": [
    {
     "data": {
      "text/html": [
       "<div style=\"max-height:1000px;max-width:1500px;overflow:auto;\">\n",
       "<table border=\"1\" class=\"dataframe\">\n",
       "  <thead>\n",
       "    <tr style=\"text-align: right;\">\n",
       "      <th></th>\n",
       "      <th>bidder_id</th>\n",
       "      <th>payment_account</th>\n",
       "      <th>address</th>\n",
       "      <th>outcome</th>\n",
       "    </tr>\n",
       "  </thead>\n",
       "  <tbody>\n",
       "    <tr>\n",
       "      <th>0</th>\n",
       "      <td> 91a3c57b13234af24875c56fb7e2b2f4rb56a</td>\n",
       "      <td> a3d2de7675556553a5f08e4c88d2c228754av</td>\n",
       "      <td> a3d2de7675556553a5f08e4c88d2c228vt0u4</td>\n",
       "      <td> 0</td>\n",
       "    </tr>\n",
       "    <tr>\n",
       "      <th>1</th>\n",
       "      <td> 624f258b49e77713fc34034560f93fb3hu3jo</td>\n",
       "      <td> a3d2de7675556553a5f08e4c88d2c228v1sga</td>\n",
       "      <td> ae87054e5a97a8f840a3991d12611fdcrfbq3</td>\n",
       "      <td> 0</td>\n",
       "    </tr>\n",
       "    <tr>\n",
       "      <th>2</th>\n",
       "      <td> 1c5f4fc669099bfbfac515cd26997bd12ruaj</td>\n",
       "      <td> a3d2de7675556553a5f08e4c88d2c2280cybl</td>\n",
       "      <td> 92520288b50f03907041887884ba49c0cl0pd</td>\n",
       "      <td> 0</td>\n",
       "    </tr>\n",
       "  </tbody>\n",
       "</table>\n",
       "</div>"
      ],
      "text/plain": [
       "                               bidder_id  \\\n",
       "0  91a3c57b13234af24875c56fb7e2b2f4rb56a   \n",
       "1  624f258b49e77713fc34034560f93fb3hu3jo   \n",
       "2  1c5f4fc669099bfbfac515cd26997bd12ruaj   \n",
       "\n",
       "                         payment_account  \\\n",
       "0  a3d2de7675556553a5f08e4c88d2c228754av   \n",
       "1  a3d2de7675556553a5f08e4c88d2c228v1sga   \n",
       "2  a3d2de7675556553a5f08e4c88d2c2280cybl   \n",
       "\n",
       "                                 address  outcome  \n",
       "0  a3d2de7675556553a5f08e4c88d2c228vt0u4        0  \n",
       "1  ae87054e5a97a8f840a3991d12611fdcrfbq3        0  \n",
       "2  92520288b50f03907041887884ba49c0cl0pd        0  "
      ]
     },
     "execution_count": 7,
     "metadata": {},
     "output_type": "execute_result"
    }
   ],
   "source": [
    "df.head(3)"
   ]
  },
  {
   "cell_type": "code",
   "execution_count": 9,
   "metadata": {
    "collapsed": false
   },
   "outputs": [
    {
     "data": {
      "text/html": [
       "<div style=\"max-height:1000px;max-width:1500px;overflow:auto;\">\n",
       "<table border=\"1\" class=\"dataframe\">\n",
       "  <thead>\n",
       "    <tr style=\"text-align: right;\">\n",
       "      <th></th>\n",
       "      <th>outcome</th>\n",
       "    </tr>\n",
       "  </thead>\n",
       "  <tbody>\n",
       "    <tr>\n",
       "      <th>count</th>\n",
       "      <td> 2013.000000</td>\n",
       "    </tr>\n",
       "    <tr>\n",
       "      <th>mean</th>\n",
       "      <td>    0.051167</td>\n",
       "    </tr>\n",
       "    <tr>\n",
       "      <th>std</th>\n",
       "      <td>    0.220394</td>\n",
       "    </tr>\n",
       "    <tr>\n",
       "      <th>min</th>\n",
       "      <td>    0.000000</td>\n",
       "    </tr>\n",
       "    <tr>\n",
       "      <th>25%</th>\n",
       "      <td>    0.000000</td>\n",
       "    </tr>\n",
       "    <tr>\n",
       "      <th>50%</th>\n",
       "      <td>    0.000000</td>\n",
       "    </tr>\n",
       "    <tr>\n",
       "      <th>75%</th>\n",
       "      <td>    0.000000</td>\n",
       "    </tr>\n",
       "    <tr>\n",
       "      <th>max</th>\n",
       "      <td>    1.000000</td>\n",
       "    </tr>\n",
       "  </tbody>\n",
       "</table>\n",
       "</div>"
      ],
      "text/plain": [
       "           outcome\n",
       "count  2013.000000\n",
       "mean      0.051167\n",
       "std       0.220394\n",
       "min       0.000000\n",
       "25%       0.000000\n",
       "50%       0.000000\n",
       "75%       0.000000\n",
       "max       1.000000"
      ]
     },
     "execution_count": 9,
     "metadata": {},
     "output_type": "execute_result"
    }
   ],
   "source": [
    "df.describe()"
   ]
  },
  {
   "cell_type": "markdown",
   "metadata": {},
   "source": [
    "Our training data consist of 2013 entries. Outcome is 1 when the bidder is a robot."
   ]
  },
  {
   "cell_type": "code",
   "execution_count": 17,
   "metadata": {
    "collapsed": false
   },
   "outputs": [
    {
     "data": {
      "text/plain": [
       "103"
      ]
     },
     "execution_count": 17,
     "metadata": {},
     "output_type": "execute_result"
    }
   ],
   "source": [
    "df[df['outcome']==1]['outcome'].count()"
   ]
  },
  {
   "cell_type": "markdown",
   "metadata": {},
   "source": [
    "103 entries in the training dataset are robots."
   ]
  },
  {
   "cell_type": "code",
   "execution_count": 22,
   "metadata": {
    "collapsed": false
   },
   "outputs": [
    {
     "data": {
      "text/html": [
       "<div style=\"max-height:1000px;max-width:1500px;overflow:auto;\">\n",
       "<table border=\"1\" class=\"dataframe\">\n",
       "  <thead>\n",
       "    <tr style=\"text-align: right;\">\n",
       "      <th></th>\n",
       "      <th>bidder_id</th>\n",
       "      <th>payment_account</th>\n",
       "      <th>address</th>\n",
       "      <th>outcome</th>\n",
       "    </tr>\n",
       "  </thead>\n",
       "  <tbody>\n",
       "    <tr>\n",
       "      <th>21 </th>\n",
       "      <td> 5354c02817e47f28e60e44a40ca5e48dll4sz</td>\n",
       "      <td> 1862ef3b7965993cc975a1161010e810w2bwo</td>\n",
       "      <td> 58e5dc4d38d886f6c7abf0c264a51cb7alhj2</td>\n",
       "      <td> 1</td>\n",
       "    </tr>\n",
       "    <tr>\n",
       "      <th>50 </th>\n",
       "      <td> 9434778d2268f1fa2a8ede48c0cd05c097zey</td>\n",
       "      <td> ee3295c7b31a1e9116ebf0cf2df68ed1ac8ts</td>\n",
       "      <td> 627fe7481f01372c02333477471cb237qt2vf</td>\n",
       "      <td> 1</td>\n",
       "    </tr>\n",
       "    <tr>\n",
       "      <th>51 </th>\n",
       "      <td> aabc211b4cf4d29e4ac7e7e361371622pockb</td>\n",
       "      <td> a3d2de7675556553a5f08e4c88d2c228pxtr6</td>\n",
       "      <td> a3d2de7675556553a5f08e4c88d2c228bxn98</td>\n",
       "      <td> 1</td>\n",
       "    </tr>\n",
       "    <tr>\n",
       "      <th>58 </th>\n",
       "      <td> 68d468e15e0de0bab9694cdca8e799eb2j8kn</td>\n",
       "      <td> a3d2de7675556553a5f08e4c88d2c228vf08k</td>\n",
       "      <td> 767150cd5a97ed796bfc58456f5500250dsv7</td>\n",
       "      <td> 1</td>\n",
       "    </tr>\n",
       "    <tr>\n",
       "      <th>77 </th>\n",
       "      <td> 1cbd9081de4481ada66f1853737f7684ddjd1</td>\n",
       "      <td> a3d2de7675556553a5f08e4c88d2c228buft1</td>\n",
       "      <td> a3d2de7675556553a5f08e4c88d2c228pijoz</td>\n",
       "      <td> 1</td>\n",
       "    </tr>\n",
       "    <tr>\n",
       "      <th>86 </th>\n",
       "      <td> 96b90af2d3eea4d3b2bc725e1c92e212qu52g</td>\n",
       "      <td> 39ef2afbc0cde265550cafb40eb3fd8erzlrm</td>\n",
       "      <td> 0e6dfa874409a90bc0fbf0d531475241cvw1o</td>\n",
       "      <td> 1</td>\n",
       "    </tr>\n",
       "    <tr>\n",
       "      <th>139</th>\n",
       "      <td> 15972a431aed117840dfce5556242366c3fwq</td>\n",
       "      <td> 4b5c8f52a678e51ebe0ee3fc26da66902e2l7</td>\n",
       "      <td> 865e5987e0c8fc7f6301b5571d688d13pu5j1</td>\n",
       "      <td> 1</td>\n",
       "    </tr>\n",
       "    <tr>\n",
       "      <th>148</th>\n",
       "      <td> efc61ad6db17265a4bac85f77b154ef414tpp</td>\n",
       "      <td> a3d2de7675556553a5f08e4c88d2c22850etl</td>\n",
       "      <td> a3d2de7675556553a5f08e4c88d2c228d6pnk</td>\n",
       "      <td> 1</td>\n",
       "    </tr>\n",
       "    <tr>\n",
       "      <th>165</th>\n",
       "      <td> 3d9910a238a0f282ad3132dd6fc981c8tv3tg</td>\n",
       "      <td> a3d2de7675556553a5f08e4c88d2c2281ehah</td>\n",
       "      <td> c856c4f51e949635cb567f7321bc0c6at1y78</td>\n",
       "      <td> 1</td>\n",
       "    </tr>\n",
       "    <tr>\n",
       "      <th>199</th>\n",
       "      <td> 1af4685cda2979a608c4b6ad83473774qgicn</td>\n",
       "      <td> e35a74340ac6d90fcb4fe9b84c6eaa2135wqx</td>\n",
       "      <td> ceda5914ce08b87ec934e614452442903j17m</td>\n",
       "      <td> 1</td>\n",
       "    </tr>\n",
       "  </tbody>\n",
       "</table>\n",
       "</div>"
      ],
      "text/plain": [
       "                                 bidder_id  \\\n",
       "21   5354c02817e47f28e60e44a40ca5e48dll4sz   \n",
       "50   9434778d2268f1fa2a8ede48c0cd05c097zey   \n",
       "51   aabc211b4cf4d29e4ac7e7e361371622pockb   \n",
       "58   68d468e15e0de0bab9694cdca8e799eb2j8kn   \n",
       "77   1cbd9081de4481ada66f1853737f7684ddjd1   \n",
       "86   96b90af2d3eea4d3b2bc725e1c92e212qu52g   \n",
       "139  15972a431aed117840dfce5556242366c3fwq   \n",
       "148  efc61ad6db17265a4bac85f77b154ef414tpp   \n",
       "165  3d9910a238a0f282ad3132dd6fc981c8tv3tg   \n",
       "199  1af4685cda2979a608c4b6ad83473774qgicn   \n",
       "\n",
       "                           payment_account  \\\n",
       "21   1862ef3b7965993cc975a1161010e810w2bwo   \n",
       "50   ee3295c7b31a1e9116ebf0cf2df68ed1ac8ts   \n",
       "51   a3d2de7675556553a5f08e4c88d2c228pxtr6   \n",
       "58   a3d2de7675556553a5f08e4c88d2c228vf08k   \n",
       "77   a3d2de7675556553a5f08e4c88d2c228buft1   \n",
       "86   39ef2afbc0cde265550cafb40eb3fd8erzlrm   \n",
       "139  4b5c8f52a678e51ebe0ee3fc26da66902e2l7   \n",
       "148  a3d2de7675556553a5f08e4c88d2c22850etl   \n",
       "165  a3d2de7675556553a5f08e4c88d2c2281ehah   \n",
       "199  e35a74340ac6d90fcb4fe9b84c6eaa2135wqx   \n",
       "\n",
       "                                   address  outcome  \n",
       "21   58e5dc4d38d886f6c7abf0c264a51cb7alhj2        1  \n",
       "50   627fe7481f01372c02333477471cb237qt2vf        1  \n",
       "51   a3d2de7675556553a5f08e4c88d2c228bxn98        1  \n",
       "58   767150cd5a97ed796bfc58456f5500250dsv7        1  \n",
       "77   a3d2de7675556553a5f08e4c88d2c228pijoz        1  \n",
       "86   0e6dfa874409a90bc0fbf0d531475241cvw1o        1  \n",
       "139  865e5987e0c8fc7f6301b5571d688d13pu5j1        1  \n",
       "148  a3d2de7675556553a5f08e4c88d2c228d6pnk        1  \n",
       "165  c856c4f51e949635cb567f7321bc0c6at1y78        1  \n",
       "199  ceda5914ce08b87ec934e614452442903j17m        1  "
      ]
     },
     "execution_count": 22,
     "metadata": {},
     "output_type": "execute_result"
    }
   ],
   "source": [
    "df[df['outcome']==1].head(10)"
   ]
  }
 ],
 "metadata": {
  "kernelspec": {
   "display_name": "Python 2",
   "language": "python",
   "name": "python2"
  },
  "language_info": {
   "codemirror_mode": {
    "name": "ipython",
    "version": 2
   },
   "file_extension": ".py",
   "mimetype": "text/x-python",
   "name": "python",
   "nbconvert_exporter": "python",
   "pygments_lexer": "ipython2",
   "version": "2.7.9"
  }
 },
 "nbformat": 4,
 "nbformat_minor": 0
}
